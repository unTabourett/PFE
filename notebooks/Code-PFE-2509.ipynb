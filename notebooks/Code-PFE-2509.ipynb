{
 "cells": [
  {
   "cell_type": "code",
   "execution_count": 1,
   "id": "2973292f",
   "metadata": {},
   "outputs": [
    {
     "name": "stdout",
     "output_type": "stream",
     "text": [
      "Defaulting to user installation because normal site-packages is not writeable\n",
      "Requirement already satisfied: openmeteo-requests in /home/hleroy/.local/lib/python3.10/site-packages (1.3.0)\n",
      "Requirement already satisfied: openmeteo-sdk>=1.4.0 in /home/hleroy/.local/lib/python3.10/site-packages (from openmeteo-requests) (1.15.0)\n",
      "Requirement already satisfied: requests in /home/hleroy/.local/lib/python3.10/site-packages (from openmeteo-requests) (2.32.3)\n",
      "Requirement already satisfied: flatbuffers>=24.0.0 in /home/hleroy/.local/lib/python3.10/site-packages (from openmeteo-sdk>=1.4.0->openmeteo-requests) (24.3.25)\n",
      "Requirement already satisfied: charset-normalizer<4,>=2 in /home/hleroy/.local/lib/python3.10/site-packages (from requests->openmeteo-requests) (3.3.2)\n",
      "Requirement already satisfied: idna<4,>=2.5 in /usr/lib/python3/dist-packages (from requests->openmeteo-requests) (3.3)\n",
      "Requirement already satisfied: urllib3<3,>=1.21.1 in /usr/lib/python3/dist-packages (from requests->openmeteo-requests) (1.26.5)\n",
      "Requirement already satisfied: certifi>=2017.4.17 in /usr/lib/python3/dist-packages (from requests->openmeteo-requests) (2020.6.20)\n",
      "\u001b[33mWARNING: Error parsing dependencies of send2trash: Expected matching RIGHT_PARENTHESIS for LEFT_PARENTHESIS, after version specifier\n",
      "    sys-platform (==\"darwin\") ; extra == 'objc'\n",
      "                 ~^\u001b[0m\u001b[33m\n",
      "\u001b[0mDefaulting to user installation because normal site-packages is not writeable\n",
      "Requirement already satisfied: requests-cache in /home/hleroy/.local/lib/python3.10/site-packages (1.2.1)\n",
      "Requirement already satisfied: retry-requests in /home/hleroy/.local/lib/python3.10/site-packages (2.0.0)\n",
      "Requirement already satisfied: numpy in /home/hleroy/.local/lib/python3.10/site-packages (1.24.3)\n",
      "Requirement already satisfied: pandas in /home/hleroy/.local/lib/python3.10/site-packages (2.2.2)\n",
      "Requirement already satisfied: attrs>=21.2 in /home/hleroy/.local/lib/python3.10/site-packages (from requests-cache) (24.2.0)\n",
      "Requirement already satisfied: cattrs>=22.2 in /home/hleroy/.local/lib/python3.10/site-packages (from requests-cache) (24.1.1)\n",
      "Requirement already satisfied: platformdirs>=2.5 in /home/hleroy/.local/lib/python3.10/site-packages (from requests-cache) (4.2.2)\n",
      "Requirement already satisfied: requests>=2.22 in /home/hleroy/.local/lib/python3.10/site-packages (from requests-cache) (2.32.3)\n",
      "Requirement already satisfied: url-normalize>=1.4 in /home/hleroy/.local/lib/python3.10/site-packages (from requests-cache) (1.4.3)\n",
      "Requirement already satisfied: urllib3>=1.25.5 in /usr/lib/python3/dist-packages (from requests-cache) (1.26.5)\n",
      "Requirement already satisfied: python-dateutil>=2.8.2 in /home/hleroy/.local/lib/python3.10/site-packages (from pandas) (2.9.0.post0)\n",
      "Requirement already satisfied: pytz>=2020.1 in /usr/lib/python3/dist-packages (from pandas) (2022.1)\n",
      "Requirement already satisfied: tzdata>=2022.7 in /home/hleroy/.local/lib/python3.10/site-packages (from pandas) (2024.1)\n",
      "Requirement already satisfied: exceptiongroup>=1.1.1 in /home/hleroy/.local/lib/python3.10/site-packages (from cattrs>=22.2->requests-cache) (1.2.2)\n",
      "Requirement already satisfied: typing-extensions!=4.6.3,>=4.1.0 in /home/hleroy/.local/lib/python3.10/site-packages (from cattrs>=22.2->requests-cache) (4.12.2)\n",
      "Requirement already satisfied: six>=1.5 in /usr/lib/python3/dist-packages (from python-dateutil>=2.8.2->pandas) (1.16.0)\n",
      "Requirement already satisfied: charset-normalizer<4,>=2 in /home/hleroy/.local/lib/python3.10/site-packages (from requests>=2.22->requests-cache) (3.3.2)\n",
      "Requirement already satisfied: idna<4,>=2.5 in /usr/lib/python3/dist-packages (from requests>=2.22->requests-cache) (3.3)\n",
      "Requirement already satisfied: certifi>=2017.4.17 in /usr/lib/python3/dist-packages (from requests>=2.22->requests-cache) (2020.6.20)\n",
      "\u001b[33mWARNING: Error parsing dependencies of send2trash: Expected matching RIGHT_PARENTHESIS for LEFT_PARENTHESIS, after version specifier\n",
      "    sys-platform (==\"darwin\") ; extra == 'objc'\n",
      "                 ~^\u001b[0m\u001b[33m\n",
      "\u001b[0m"
     ]
    }
   ],
   "source": [
    "!pip install openmeteo-requests\n",
    "!pip install requests-cache retry-requests numpy pandas"
   ]
  },
  {
   "cell_type": "code",
   "execution_count": 2,
   "id": "373bf70f",
   "metadata": {},
   "outputs": [],
   "source": [
    "import numpy as np\n",
    "import pandas as pd\n",
    "import matplotlib.pyplot as plt\n",
    "import geopandas as gpd\n",
    "import cartopy.crs as ccrs"
   ]
  },
  {
   "cell_type": "code",
   "execution_count": 3,
   "id": "fcfe4a86",
   "metadata": {},
   "outputs": [],
   "source": [
    "latitudes = np.arange(41.5, 43.02, 0.1)\n",
    "longitudes = np.arange(8.5, 9.52, 0.1)"
   ]
  },
  {
   "cell_type": "code",
   "execution_count": 4,
   "id": "cf146b12",
   "metadata": {},
   "outputs": [
    {
     "name": "stdout",
     "output_type": "stream",
     "text": [
      "[41.5 41.6 41.7 41.8 41.9 42.  42.1 42.2 42.3 42.4 42.5 42.6 42.7 42.8\n",
      " 42.9 43. ]\n",
      "[8.5 8.6 8.7 8.8 8.9 9.  9.1 9.2 9.3 9.4 9.5]\n"
     ]
    }
   ],
   "source": [
    "print(latitudes)\n",
    "print(longitudes)"
   ]
  },
  {
   "cell_type": "code",
   "execution_count": 5,
   "id": "9b70729c",
   "metadata": {},
   "outputs": [],
   "source": [
    "latitudes_list = latitudes.round(1).tolist()\n",
    "longitudes_list = longitudes.round(1).tolist()"
   ]
  },
  {
   "cell_type": "code",
   "execution_count": 6,
   "id": "532fd0bd",
   "metadata": {},
   "outputs": [],
   "source": [
    "l_latitudes = np.repeat(latitudes_list, len(longitudes)).tolist()\n",
    "l_longitudes = np.tile(longitudes_list, len(latitudes)).tolist()"
   ]
  },
  {
   "cell_type": "code",
   "execution_count": 7,
   "id": "565cb5fe",
   "metadata": {},
   "outputs": [],
   "source": [
    "#print(l_latitudes)\n",
    "#print(l_longitudes)"
   ]
  },
  {
   "cell_type": "code",
   "execution_count": 8,
   "id": "ae38126f",
   "metadata": {},
   "outputs": [],
   "source": [
    "import openmeteo_requests\n",
    "\n",
    "import requests_cache\n",
    "import pandas as pd\n",
    "from retry_requests import retry\n",
    "\n",
    "# Setup the Open-Meteo API client with cache and retry on error\n",
    "cache_session = requests_cache.CachedSession('.cache', expire_after = -1)\n",
    "retry_session = retry(cache_session, retries = 5, backoff_factor = 0.2)\n",
    "openmeteo = openmeteo_requests.Client(session = retry_session)\n",
    "\n",
    "# Make sure all required weather variables are listed here\n",
    "# The order of variables in hourly or daily is important to assign them correctly below\n",
    "url = \"https://archive-api.open-meteo.com/v1/archive\"\n",
    "params = {\n",
    "\t\"latitude\": l_latitudes,\n",
    "\t\"longitude\": l_longitudes,\n",
    "\t\"start_date\": \"2024-09-09\",\n",
    "\t\"end_date\": \"2024-09-09\",\n",
    "\t\"hourly\": [\"wind_speed_10m\", \"wind_direction_10m\"]\n",
    "}\n",
    "responses = openmeteo.weather_api(url, params=params)\n"
   ]
  },
  {
   "cell_type": "code",
   "execution_count": 9,
   "id": "03098d4b",
   "metadata": {},
   "outputs": [],
   "source": [
    "# Création du DataFrame à partir des coordonnées\n",
    "wind_data = pd.DataFrame({'lat': l_latitudes, 'lon': l_longitudes, 'u': 0.0, 'v':0.0})\n"
   ]
  },
  {
   "cell_type": "code",
   "execution_count": 10,
   "id": "f898b0bf",
   "metadata": {},
   "outputs": [
    {
     "name": "stdout",
     "output_type": "stream",
     "text": [
      "      lat  lon    u    v\n",
      "0    41.5  8.5  0.0  0.0\n",
      "1    41.5  8.6  0.0  0.0\n",
      "2    41.5  8.7  0.0  0.0\n",
      "3    41.5  8.8  0.0  0.0\n",
      "4    41.5  8.9  0.0  0.0\n",
      "..    ...  ...  ...  ...\n",
      "171  43.0  9.1  0.0  0.0\n",
      "172  43.0  9.2  0.0  0.0\n",
      "173  43.0  9.3  0.0  0.0\n",
      "174  43.0  9.4  0.0  0.0\n",
      "175  43.0  9.5  0.0  0.0\n",
      "\n",
      "[176 rows x 4 columns]\n"
     ]
    }
   ],
   "source": [
    "print(wind_data)"
   ]
  },
  {
   "cell_type": "code",
   "execution_count": 11,
   "id": "bd8c6b25",
   "metadata": {},
   "outputs": [],
   "source": [
    "for i in range(len(l_latitudes)): #l_latitude correspond au nombre de points de la grille\n",
    "    data = responses[i] #On prend le i-ème point de la grille\n",
    "    \n",
    "    hourl = data.Hourly() #On va chercher les données par heure\n",
    "    hourl_wind_speed_10m = hourl.Variables(0).ValuesAsNumpy()\n",
    "    hourl_wind_direction_10m = hourl.Variables(1).ValuesAsNumpy()\n",
    "    hourl_data = {\"date\": pd.date_range(\n",
    "        start = pd.to_datetime(hourl.Time(), unit = \"s\", utc = True),\n",
    "        end = pd.to_datetime(hourl.TimeEnd(), unit = \"s\", utc = True),\n",
    "        freq = pd.Timedelta(seconds = hourl.Interval()),\n",
    "        inclusive = \"left\"\n",
    "    )}\n",
    "    hourl_data[\"wind_speed_10m\"] = hourl_wind_speed_10m\n",
    "    hourl_data[\"wind_direction_10m\"] = hourl_wind_direction_10m\n",
    "\n",
    "    hourl_dataframe = pd.DataFrame(data = hourl_data)\n",
    "    \n",
    "    wind_spd_tmp = hourl_data[\"wind_speed_10m\"][0] #0 correspond à l'heure 0h00 de la journée du 09/09/2024\n",
    "    wind_dir_tmp = hourl_data[\"wind_direction_10m\"][0]\n",
    "    wind_direction_radians = np.deg2rad(wind_dir_tmp)\n",
    "    \n",
    "    wind_data.at[i, 'u'] = wind_spd_tmp * np.cos(wind_direction_radians)\n",
    "    wind_data.at[i, 'v'] = wind_spd_tmp * np.sin(wind_direction_radians)\n"
   ]
  },
  {
   "cell_type": "code",
   "execution_count": 12,
   "id": "5c82b6f2",
   "metadata": {},
   "outputs": [],
   "source": [
    "#print(wind_data.tail(20))"
   ]
  },
  {
   "cell_type": "code",
   "execution_count": 13,
   "id": "2ac319fa",
   "metadata": {},
   "outputs": [
    {
     "data": {
      "image/png": "[encoded data removed]",
      "text/plain": [
       "<Figure size 720x576 with 1 Axes>"
      ]
     },
     "metadata": {
      "needs_background": "light"
     },
     "output_type": "display_data"
    }
   ],
   "source": [
    "# Création de la carte\n",
    "plt.figure(figsize=(10, 8))\n",
    "ax = plt.axes(projection=ccrs.Mercator())\n",
    "\n",
    "# Tracer les contours de la Corse\n",
    "ax.coastlines()\n",
    "ax.set_extent([8.25, 9.6, 41.2, 43.1], crs=ccrs.PlateCarree())\n",
    "ax.set_title(\"Direction et vitesse du vent à l'heure 0\")\n",
    "\n",
    "\n",
    "ax.quiver(wind_data['lon'], wind_data['lat'], wind_data['u'], wind_data['v'], scale=100, transform=ccrs.PlateCarree(), color='r')\n",
    "\n",
    "plt.show()"
   ]
  },
  {
   "cell_type": "markdown",
   "id": "8abdbe44",
   "metadata": {},
   "source": [
    "## Interpolation avec scipy.interpolate as interp"
   ]
  },
  {
   "cell_type": "code",
   "execution_count": 28,
   "id": "4cad24e2",
   "metadata": {},
   "outputs": [],
   "source": [
    "t1, t2 = np.meshgrid(latitudes, longitudes)"
   ]
  },
  {
   "cell_type": "code",
   "execution_count": 29,
   "id": "878e1eac",
   "metadata": {},
   "outputs": [
    {
     "name": "stdout",
     "output_type": "stream",
     "text": [
      "[[41.5 41.6 41.7 41.8 41.9 42.  42.1 42.2 42.3 42.4 42.5 42.6 42.7 42.8\n",
      "  42.9 43. ]\n",
      " [41.5 41.6 41.7 41.8 41.9 42.  42.1 42.2 42.3 42.4 42.5 42.6 42.7 42.8\n",
      "  42.9 43. ]\n",
      " [41.5 41.6 41.7 41.8 41.9 42.  42.1 42.2 42.3 42.4 42.5 42.6 42.7 42.8\n",
      "  42.9 43. ]\n",
      " [41.5 41.6 41.7 41.8 41.9 42.  42.1 42.2 42.3 42.4 42.5 42.6 42.7 42.8\n",
      "  42.9 43. ]\n",
      " [41.5 41.6 41.7 41.8 41.9 42.  42.1 42.2 42.3 42.4 42.5 42.6 42.7 42.8\n",
      "  42.9 43. ]\n",
      " [41.5 41.6 41.7 41.8 41.9 42.  42.1 42.2 42.3 42.4 42.5 42.6 42.7 42.8\n",
      "  42.9 43. ]\n",
      " [41.5 41.6 41.7 41.8 41.9 42.  42.1 42.2 42.3 42.4 42.5 42.6 42.7 42.8\n",
      "  42.9 43. ]\n",
      " [41.5 41.6 41.7 41.8 41.9 42.  42.1 42.2 42.3 42.4 42.5 42.6 42.7 42.8\n",
      "  42.9 43. ]\n",
      " [41.5 41.6 41.7 41.8 41.9 42.  42.1 42.2 42.3 42.4 42.5 42.6 42.7 42.8\n",
      "  42.9 43. ]\n",
      " [41.5 41.6 41.7 41.8 41.9 42.  42.1 42.2 42.3 42.4 42.5 42.6 42.7 42.8\n",
      "  42.9 43. ]\n",
      " [41.5 41.6 41.7 41.8 41.9 42.  42.1 42.2 42.3 42.4 42.5 42.6 42.7 42.8\n",
      "  42.9 43. ]] [[8.5 8.5 8.5 8.5 8.5 8.5 8.5 8.5 8.5 8.5 8.5 8.5 8.5 8.5 8.5 8.5]\n",
      " [8.6 8.6 8.6 8.6 8.6 8.6 8.6 8.6 8.6 8.6 8.6 8.6 8.6 8.6 8.6 8.6]\n",
      " [8.7 8.7 8.7 8.7 8.7 8.7 8.7 8.7 8.7 8.7 8.7 8.7 8.7 8.7 8.7 8.7]\n",
      " [8.8 8.8 8.8 8.8 8.8 8.8 8.8 8.8 8.8 8.8 8.8 8.8 8.8 8.8 8.8 8.8]\n",
      " [8.9 8.9 8.9 8.9 8.9 8.9 8.9 8.9 8.9 8.9 8.9 8.9 8.9 8.9 8.9 8.9]\n",
      " [9.  9.  9.  9.  9.  9.  9.  9.  9.  9.  9.  9.  9.  9.  9.  9. ]\n",
      " [9.1 9.1 9.1 9.1 9.1 9.1 9.1 9.1 9.1 9.1 9.1 9.1 9.1 9.1 9.1 9.1]\n",
      " [9.2 9.2 9.2 9.2 9.2 9.2 9.2 9.2 9.2 9.2 9.2 9.2 9.2 9.2 9.2 9.2]\n",
      " [9.3 9.3 9.3 9.3 9.3 9.3 9.3 9.3 9.3 9.3 9.3 9.3 9.3 9.3 9.3 9.3]\n",
      " [9.4 9.4 9.4 9.4 9.4 9.4 9.4 9.4 9.4 9.4 9.4 9.4 9.4 9.4 9.4 9.4]\n",
      " [9.5 9.5 9.5 9.5 9.5 9.5 9.5 9.5 9.5 9.5 9.5 9.5 9.5 9.5 9.5 9.5]]\n"
     ]
    }
   ],
   "source": [
    "print(t1, t2)"
   ]
  },
  {
   "cell_type": "code",
   "execution_count": 51,
   "id": "ffe949ba",
   "metadata": {},
   "outputs": [],
   "source": [
    "N_sparse = 6\n",
    "u_mesh = np.zeros((len(t1), len(t2)))\n",
    "epsilon = 1e-1\n",
    "for long, lat in zip(t1, t2):\n",
    "    tmp = 0\n",
    "    for i in range(len(long)):\n",
    "        matches = (\n",
    "            (np.abs(wind_data['lon'] - long[i]) < epsilon) &\n",
    "            (np.abs(wind_data['lat'] - lat[i]) < epsilon)\n",
    "        )\n",
    "        u_values = wind_data.loc[matches, 'u']\n",
    "        #print(long[i], lat[i])\n",
    "        #print(wind_data.at[i, 'lon'])\n",
    "        #print(wind_data.at[i, 'lat'])\n",
    "        #print(wind_data.loc[wind_data['lon'] == long[i], 'u'])\n",
    "        #u_mesh[tmp, i] = wind_data.loc[(wind_data['lon'] == round(long[i], 1)) & (wind_data['lat'] == lat[i]), 'u'].values\n",
    "        #print(wind_data.loc[(round(wind_data['lon'], 1) == round(long[i], 1)) & (round(wind_data['lat'], 1) == round(lat[i], 1)), 'u'].values)\n",
    "        \n"
   ]
  },
  {
   "cell_type": "code",
   "execution_count": 53,
   "id": "7cd2542f",
   "metadata": {},
   "outputs": [
    {
     "name": "stdout",
     "output_type": "stream",
     "text": [
      "[]\n"
     ]
    }
   ],
   "source": [
    "print(u_values.values)"
   ]
  },
  {
   "cell_type": "code",
   "execution_count": null,
   "id": "cdb428e1",
   "metadata": {},
   "outputs": [],
   "source": []
  },
  {
   "cell_type": "code",
   "execution_count": null,
   "id": "d4d89d35",
   "metadata": {},
   "outputs": [],
   "source": []
  },
  {
   "cell_type": "code",
   "execution_count": null,
   "id": "078c7002",
   "metadata": {},
   "outputs": [],
   "source": []
  },
  {
   "cell_type": "code",
   "execution_count": null,
   "id": "b2652717",
   "metadata": {},
   "outputs": [],
   "source": []
  },
  {
   "cell_type": "code",
   "execution_count": null,
   "id": "2549e38d",
   "metadata": {},
   "outputs": [],
   "source": []
  },
  {
   "cell_type": "code",
   "execution_count": null,
   "id": "fd0fc063",
   "metadata": {},
   "outputs": [],
   "source": []
  },
  {
   "cell_type": "code",
   "execution_count": null,
   "id": "d3f60f78",
   "metadata": {},
   "outputs": [],
   "source": []
  },
  {
   "cell_type": "code",
   "execution_count": null,
   "id": "78cfe56e",
   "metadata": {},
   "outputs": [],
   "source": []
  },
  {
   "cell_type": "code",
   "execution_count": null,
   "id": "a5694a6b",
   "metadata": {},
   "outputs": [],
   "source": []
  },
  {
   "cell_type": "code",
   "execution_count": null,
   "id": "ac89a717",
   "metadata": {},
   "outputs": [],
   "source": []
  },
  {
   "cell_type": "markdown",
   "id": "9a2a14ed",
   "metadata": {},
   "source": [
    "## Interpolation avec Lagrange"
   ]
  },
  {
   "cell_type": "code",
   "execution_count": 23,
   "id": "42af147c",
   "metadata": {},
   "outputs": [],
   "source": [
    "import numpy as np\n",
    "from scipy.interpolate import lagrange\n",
    "import matplotlib.pyplot as plt"
   ]
  },
  {
   "cell_type": "code",
   "execution_count": 24,
   "id": "bb8d0845",
   "metadata": {},
   "outputs": [],
   "source": [
    "u_new = np.arange(41.5, 43.01, 0.02)\n",
    "v_new = np.arange(8.5, 9.51, 0.02)"
   ]
  },
  {
   "cell_type": "code",
   "execution_count": 25,
   "id": "d0238339",
   "metadata": {},
   "outputs": [],
   "source": [
    "# Interpoler d'abord dans la direction x, puis y\n",
    "def interpolate_lagrange_2d(x, y, values, x_new, y_new):\n",
    "    # Interpolation sur chaque ligne pour chaque nouvelle valeur de x\n",
    "    interpolated_rows = np.zeros((len(y), len(x_new)))\n",
    "    for i, row in enumerate(values):\n",
    "        # Interpoler pour chaque ligne (en fonction de x)\n",
    "        lagrange_poly = lagrange(x, row)\n",
    "        interpolated_rows[i] = lagrange_poly(x_new)\n",
    "\n",
    "    # Interpolation sur chaque colonne pour chaque nouvelle valeur de y\n",
    "    interpolated_values = np.zeros((len(y_new), len(x_new)))\n",
    "    for j in range(len(x_new)):\n",
    "        lagrange_poly = lagrange(y, interpolated_rows[:, j])\n",
    "        interpolated_values[:, j] = lagrange_poly(y_new)\n",
    "\n",
    "    return interpolated_values\n"
   ]
  },
  {
   "cell_type": "code",
   "execution_count": null,
   "id": "4e68480d",
   "metadata": {},
   "outputs": [],
   "source": []
  },
  {
   "cell_type": "code",
   "execution_count": 26,
   "id": "c81b33ee",
   "metadata": {},
   "outputs": [
    {
     "ename": "TypeError",
     "evalue": "'float' object is not subscriptable",
     "output_type": "error",
     "traceback": [
      "\u001b[0;31m---------------------------------------------------------------------------\u001b[0m",
      "\u001b[0;31mTypeError\u001b[0m                                 Traceback (most recent call last)",
      "\u001b[0;32m/tmp/ipykernel_35306/1750500029.py\u001b[0m in \u001b[0;36m<module>\u001b[0;34m\u001b[0m\n\u001b[1;32m      1\u001b[0m \u001b[0;31m# Interpoler u et v sur la nouvelle grille\u001b[0m\u001b[0;34m\u001b[0m\u001b[0;34m\u001b[0m\u001b[0m\n\u001b[0;32m----> 2\u001b[0;31m \u001b[0mu_interp\u001b[0m \u001b[0;34m=\u001b[0m \u001b[0minterpolate_lagrange_2d\u001b[0m\u001b[0;34m(\u001b[0m\u001b[0mwind_data\u001b[0m\u001b[0;34m[\u001b[0m\u001b[0;34m'lon'\u001b[0m\u001b[0;34m]\u001b[0m\u001b[0;34m,\u001b[0m \u001b[0mwind_data\u001b[0m\u001b[0;34m[\u001b[0m\u001b[0;34m'lat'\u001b[0m\u001b[0;34m]\u001b[0m\u001b[0;34m,\u001b[0m \u001b[0mwind_data\u001b[0m\u001b[0;34m[\u001b[0m\u001b[0;34m'u'\u001b[0m\u001b[0;34m]\u001b[0m\u001b[0;34m,\u001b[0m \u001b[0mu_new\u001b[0m\u001b[0;34m,\u001b[0m \u001b[0mv_new\u001b[0m\u001b[0;34m)\u001b[0m\u001b[0;34m\u001b[0m\u001b[0;34m\u001b[0m\u001b[0m\n\u001b[0m\u001b[1;32m      3\u001b[0m \u001b[0mv_interp\u001b[0m \u001b[0;34m=\u001b[0m \u001b[0minterpolate_lagrange_2d\u001b[0m\u001b[0;34m(\u001b[0m\u001b[0mwind_data\u001b[0m\u001b[0;34m[\u001b[0m\u001b[0;34m'lon'\u001b[0m\u001b[0;34m]\u001b[0m\u001b[0;34m,\u001b[0m \u001b[0mwind_data\u001b[0m\u001b[0;34m[\u001b[0m\u001b[0;34m'lat'\u001b[0m\u001b[0;34m]\u001b[0m\u001b[0;34m,\u001b[0m \u001b[0mwind_data\u001b[0m\u001b[0;34m[\u001b[0m\u001b[0;34m'v'\u001b[0m\u001b[0;34m]\u001b[0m\u001b[0;34m,\u001b[0m \u001b[0mu_new\u001b[0m\u001b[0;34m,\u001b[0m \u001b[0mv_new\u001b[0m\u001b[0;34m)\u001b[0m\u001b[0;34m\u001b[0m\u001b[0;34m\u001b[0m\u001b[0m\n",
      "\u001b[0;32m/tmp/ipykernel_35306/364739659.py\u001b[0m in \u001b[0;36minterpolate_lagrange_2d\u001b[0;34m(x, y, values, x_new, y_new)\u001b[0m\n\u001b[1;32m      5\u001b[0m     \u001b[0;32mfor\u001b[0m \u001b[0mi\u001b[0m\u001b[0;34m,\u001b[0m \u001b[0mrow\u001b[0m \u001b[0;32min\u001b[0m \u001b[0menumerate\u001b[0m\u001b[0;34m(\u001b[0m\u001b[0mvalues\u001b[0m\u001b[0;34m)\u001b[0m\u001b[0;34m:\u001b[0m\u001b[0;34m\u001b[0m\u001b[0;34m\u001b[0m\u001b[0m\n\u001b[1;32m      6\u001b[0m         \u001b[0;31m# Interpoler pour chaque ligne (en fonction de x)\u001b[0m\u001b[0;34m\u001b[0m\u001b[0;34m\u001b[0m\u001b[0m\n\u001b[0;32m----> 7\u001b[0;31m         \u001b[0mlagrange_poly\u001b[0m \u001b[0;34m=\u001b[0m \u001b[0mlagrange\u001b[0m\u001b[0;34m(\u001b[0m\u001b[0mx\u001b[0m\u001b[0;34m,\u001b[0m \u001b[0mrow\u001b[0m\u001b[0;34m)\u001b[0m\u001b[0;34m\u001b[0m\u001b[0;34m\u001b[0m\u001b[0m\n\u001b[0m\u001b[1;32m      8\u001b[0m         \u001b[0minterpolated_rows\u001b[0m\u001b[0;34m[\u001b[0m\u001b[0mi\u001b[0m\u001b[0;34m]\u001b[0m \u001b[0;34m=\u001b[0m \u001b[0mlagrange_poly\u001b[0m\u001b[0;34m(\u001b[0m\u001b[0mx_new\u001b[0m\u001b[0;34m)\u001b[0m\u001b[0;34m\u001b[0m\u001b[0;34m\u001b[0m\u001b[0m\n\u001b[1;32m      9\u001b[0m \u001b[0;34m\u001b[0m\u001b[0m\n",
      "\u001b[0;32m/usr/lib/python3/dist-packages/scipy/interpolate/_interpolate.py\u001b[0m in \u001b[0;36mlagrange\u001b[0;34m(x, w)\u001b[0m\n\u001b[1;32m     82\u001b[0m     \u001b[0mp\u001b[0m \u001b[0;34m=\u001b[0m \u001b[0mpoly1d\u001b[0m\u001b[0;34m(\u001b[0m\u001b[0;36m0.0\u001b[0m\u001b[0;34m)\u001b[0m\u001b[0;34m\u001b[0m\u001b[0;34m\u001b[0m\u001b[0m\n\u001b[1;32m     83\u001b[0m     \u001b[0;32mfor\u001b[0m \u001b[0mj\u001b[0m \u001b[0;32min\u001b[0m \u001b[0mrange\u001b[0m\u001b[0;34m(\u001b[0m\u001b[0mM\u001b[0m\u001b[0;34m)\u001b[0m\u001b[0;34m:\u001b[0m\u001b[0;34m\u001b[0m\u001b[0;34m\u001b[0m\u001b[0m\n\u001b[0;32m---> 84\u001b[0;31m         \u001b[0mpt\u001b[0m \u001b[0;34m=\u001b[0m \u001b[0mpoly1d\u001b[0m\u001b[0;34m(\u001b[0m\u001b[0mw\u001b[0m\u001b[0;34m[\u001b[0m\u001b[0mj\u001b[0m\u001b[0;34m]\u001b[0m\u001b[0;34m)\u001b[0m\u001b[0;34m\u001b[0m\u001b[0;34m\u001b[0m\u001b[0m\n\u001b[0m\u001b[1;32m     85\u001b[0m         \u001b[0;32mfor\u001b[0m \u001b[0mk\u001b[0m \u001b[0;32min\u001b[0m \u001b[0mrange\u001b[0m\u001b[0;34m(\u001b[0m\u001b[0mM\u001b[0m\u001b[0;34m)\u001b[0m\u001b[0;34m:\u001b[0m\u001b[0;34m\u001b[0m\u001b[0;34m\u001b[0m\u001b[0m\n\u001b[1;32m     86\u001b[0m             \u001b[0;32mif\u001b[0m \u001b[0mk\u001b[0m \u001b[0;34m==\u001b[0m \u001b[0mj\u001b[0m\u001b[0;34m:\u001b[0m\u001b[0;34m\u001b[0m\u001b[0;34m\u001b[0m\u001b[0m\n",
      "\u001b[0;31mTypeError\u001b[0m: 'float' object is not subscriptable"
     ]
    }
   ],
   "source": [
    "# Interpoler u et v sur la nouvelle grille\n",
    "u_interp = interpolate_lagrange_2d(wind_data['lon'], wind_data['lat'], wind_data['u'], u_new, v_new)\n",
    "v_interp = interpolate_lagrange_2d(wind_data['lon'], wind_data['lat'], wind_data['v'], u_new, v_new)\n"
   ]
  },
  {
   "cell_type": "code",
   "execution_count": 27,
   "id": "bac45232",
   "metadata": {},
   "outputs": [
    {
     "ename": "NameError",
     "evalue": "name 'u_interp' is not defined",
     "output_type": "error",
     "traceback": [
      "\u001b[0;31m---------------------------------------------------------------------------\u001b[0m",
      "\u001b[0;31mNameError\u001b[0m                                 Traceback (most recent call last)",
      "\u001b[0;32m/tmp/ipykernel_35306/1511059166.py\u001b[0m in \u001b[0;36m<module>\u001b[0;34m\u001b[0m\n\u001b[1;32m      3\u001b[0m \u001b[0;34m\u001b[0m\u001b[0m\n\u001b[1;32m      4\u001b[0m \u001b[0mplt\u001b[0m\u001b[0;34m.\u001b[0m\u001b[0mfigure\u001b[0m\u001b[0;34m(\u001b[0m\u001b[0mfigsize\u001b[0m\u001b[0;34m=\u001b[0m\u001b[0;34m(\u001b[0m\u001b[0;36m6\u001b[0m\u001b[0;34m,\u001b[0m \u001b[0;36m6\u001b[0m\u001b[0;34m)\u001b[0m\u001b[0;34m)\u001b[0m\u001b[0;34m\u001b[0m\u001b[0;34m\u001b[0m\u001b[0m\n\u001b[0;32m----> 5\u001b[0;31m \u001b[0mplt\u001b[0m\u001b[0;34m.\u001b[0m\u001b[0mquiver\u001b[0m\u001b[0;34m(\u001b[0m\u001b[0mU_new\u001b[0m\u001b[0;34m,\u001b[0m \u001b[0mV_new\u001b[0m\u001b[0;34m,\u001b[0m \u001b[0mu_interp\u001b[0m\u001b[0;34m,\u001b[0m \u001b[0mv_interp\u001b[0m\u001b[0;34m)\u001b[0m\u001b[0;34m\u001b[0m\u001b[0;34m\u001b[0m\u001b[0m\n\u001b[0m\u001b[1;32m      6\u001b[0m \u001b[0mplt\u001b[0m\u001b[0;34m.\u001b[0m\u001b[0mtitle\u001b[0m\u001b[0;34m(\u001b[0m\u001b[0;34m\"Champ vectoriel interpolé par Lagrange\"\u001b[0m\u001b[0;34m)\u001b[0m\u001b[0;34m\u001b[0m\u001b[0;34m\u001b[0m\u001b[0m\n\u001b[1;32m      7\u001b[0m \u001b[0mplt\u001b[0m\u001b[0;34m.\u001b[0m\u001b[0mshow\u001b[0m\u001b[0;34m(\u001b[0m\u001b[0;34m)\u001b[0m\u001b[0;34m\u001b[0m\u001b[0;34m\u001b[0m\u001b[0m\n",
      "\u001b[0;31mNameError\u001b[0m: name 'u_interp' is not defined"
     ]
    },
    {
     "data": {
      "text/plain": [
       "<Figure size 432x432 with 0 Axes>"
      ]
     },
     "metadata": {},
     "output_type": "display_data"
    }
   ],
   "source": [
    "# Visualiser le champ vectoriel interpolé\n",
    "U_new, V_new = np.meshgrid(u_new, v_new)\n",
    "\n",
    "plt.figure(figsize=(6, 6))\n",
    "plt.quiver(U_new, V_new, u_interp, v_interp)\n",
    "plt.title(\"Champ vectoriel interpolé par Lagrange\")\n",
    "plt.show()"
   ]
  },
  {
   "cell_type": "code",
   "execution_count": null,
   "id": "16543b14",
   "metadata": {},
   "outputs": [],
   "source": []
  },
  {
   "cell_type": "code",
   "execution_count": null,
   "id": "00606065",
   "metadata": {},
   "outputs": [],
   "source": []
  }
 ],
 "metadata": {
  "kernelspec": {
   "display_name": "Python 3 (ipykernel)",
   "language": "python",
   "name": "python3"
  },
  "language_info": {
   "codemirror_mode": {
    "name": "ipython",
    "version": 3
   },
   "file_extension": ".py",
   "mimetype": "text/x-python",
   "name": "python",
   "nbconvert_exporter": "python",
   "pygments_lexer": "ipython3",
   "version": "3.10.12"
  }
 },
 "nbformat": 4,
 "nbformat_minor": 5
}
