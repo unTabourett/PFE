{
 "cells": [
  {
   "cell_type": "code",
   "execution_count": 2,
   "id": "2e9ab960-112c-4814-8dee-a6cd93e7cbad",
   "metadata": {},
   "outputs": [
    {
     "name": "stdout",
     "output_type": "stream",
     "text": [
      "Requirement already satisfied: openmeteo-requests in /home/hleroy/mon_venv/lib/python3.12/site-packages (1.3.0)\n",
      "Requirement already satisfied: openmeteo-sdk>=1.4.0 in /home/hleroy/mon_venv/lib/python3.12/site-packages (from openmeteo-requests) (1.16.0)\n",
      "Requirement already satisfied: requests in /home/hleroy/mon_venv/lib/python3.12/site-packages (from openmeteo-requests) (2.32.3)\n",
      "Requirement already satisfied: flatbuffers>=24.0.0 in /home/hleroy/mon_venv/lib/python3.12/site-packages (from openmeteo-sdk>=1.4.0->openmeteo-requests) (24.3.25)\n",
      "Requirement already satisfied: charset-normalizer<4,>=2 in /home/hleroy/mon_venv/lib/python3.12/site-packages (from requests->openmeteo-requests) (3.3.2)\n",
      "Requirement already satisfied: idna<4,>=2.5 in /home/hleroy/mon_venv/lib/python3.12/site-packages (from requests->openmeteo-requests) (3.10)\n",
      "Requirement already satisfied: urllib3<3,>=1.21.1 in /home/hleroy/mon_venv/lib/python3.12/site-packages (from requests->openmeteo-requests) (2.2.3)\n",
      "Requirement already satisfied: certifi>=2017.4.17 in /home/hleroy/mon_venv/lib/python3.12/site-packages (from requests->openmeteo-requests) (2024.8.30)\n",
      "Requirement already satisfied: requests-cache in /home/hleroy/mon_venv/lib/python3.12/site-packages (1.2.1)\n",
      "Requirement already satisfied: retry-requests in /home/hleroy/mon_venv/lib/python3.12/site-packages (2.0.0)\n",
      "Requirement already satisfied: numpy in /home/hleroy/mon_venv/lib/python3.12/site-packages (2.1.1)\n",
      "Requirement already satisfied: pandas in /home/hleroy/mon_venv/lib/python3.12/site-packages (2.2.3)\n",
      "Requirement already satisfied: matplotlib in /home/hleroy/mon_venv/lib/python3.12/site-packages (3.9.2)\n",
      "Requirement already satisfied: scipy in /home/hleroy/mon_venv/lib/python3.12/site-packages (1.14.1)\n",
      "Requirement already satisfied: cartopy in /home/hleroy/mon_venv/lib/python3.12/site-packages (0.23.0)\n",
      "Requirement already satisfied: openmeteo_requests in /home/hleroy/mon_venv/lib/python3.12/site-packages (1.3.0)\n",
      "Requirement already satisfied: fipy in /home/hleroy/mon_venv/lib/python3.12/site-packages (3.4.5)\n",
      "Requirement already satisfied: attrs>=21.2 in /home/hleroy/mon_venv/lib/python3.12/site-packages (from requests-cache) (24.2.0)\n",
      "Requirement already satisfied: cattrs>=22.2 in /home/hleroy/mon_venv/lib/python3.12/site-packages (from requests-cache) (24.1.2)\n",
      "Requirement already satisfied: platformdirs>=2.5 in /home/hleroy/mon_venv/lib/python3.12/site-packages (from requests-cache) (4.3.6)\n",
      "Requirement already satisfied: requests>=2.22 in /home/hleroy/mon_venv/lib/python3.12/site-packages (from requests-cache) (2.32.3)\n",
      "Requirement already satisfied: url-normalize>=1.4 in /home/hleroy/mon_venv/lib/python3.12/site-packages (from requests-cache) (1.4.3)\n",
      "Requirement already satisfied: urllib3>=1.25.5 in /home/hleroy/mon_venv/lib/python3.12/site-packages (from requests-cache) (2.2.3)\n",
      "Requirement already satisfied: python-dateutil>=2.8.2 in /home/hleroy/mon_venv/lib/python3.12/site-packages (from pandas) (2.9.0.post0)\n",
      "Requirement already satisfied: pytz>=2020.1 in /home/hleroy/mon_venv/lib/python3.12/site-packages (from pandas) (2024.2)\n",
      "Requirement already satisfied: tzdata>=2022.7 in /home/hleroy/mon_venv/lib/python3.12/site-packages (from pandas) (2024.2)\n",
      "Requirement already satisfied: contourpy>=1.0.1 in /home/hleroy/mon_venv/lib/python3.12/site-packages (from matplotlib) (1.3.0)\n",
      "Requirement already satisfied: cycler>=0.10 in /home/hleroy/mon_venv/lib/python3.12/site-packages (from matplotlib) (0.12.1)\n",
      "Requirement already satisfied: fonttools>=4.22.0 in /home/hleroy/mon_venv/lib/python3.12/site-packages (from matplotlib) (4.54.1)\n",
      "Requirement already satisfied: kiwisolver>=1.3.1 in /home/hleroy/mon_venv/lib/python3.12/site-packages (from matplotlib) (1.4.7)\n",
      "Requirement already satisfied: packaging>=20.0 in /home/hleroy/mon_venv/lib/python3.12/site-packages (from matplotlib) (24.1)\n",
      "Requirement already satisfied: pillow>=8 in /home/hleroy/mon_venv/lib/python3.12/site-packages (from matplotlib) (10.4.0)\n",
      "Requirement already satisfied: pyparsing>=2.3.1 in /home/hleroy/mon_venv/lib/python3.12/site-packages (from matplotlib) (3.1.4)\n",
      "Requirement already satisfied: shapely>=1.7 in /home/hleroy/mon_venv/lib/python3.12/site-packages (from cartopy) (2.0.6)\n",
      "Requirement already satisfied: pyshp>=2.3 in /home/hleroy/mon_venv/lib/python3.12/site-packages (from cartopy) (2.3.1)\n",
      "Requirement already satisfied: pyproj>=3.3.1 in /home/hleroy/mon_venv/lib/python3.12/site-packages (from cartopy) (3.7.0)\n",
      "Requirement already satisfied: openmeteo-sdk>=1.4.0 in /home/hleroy/mon_venv/lib/python3.12/site-packages (from openmeteo_requests) (1.16.0)\n",
      "Requirement already satisfied: future in /home/hleroy/mon_venv/lib/python3.12/site-packages (from fipy) (1.0.0)\n",
      "Requirement already satisfied: flatbuffers>=24.0.0 in /home/hleroy/mon_venv/lib/python3.12/site-packages (from openmeteo-sdk>=1.4.0->openmeteo_requests) (24.3.25)\n",
      "Requirement already satisfied: certifi in /home/hleroy/mon_venv/lib/python3.12/site-packages (from pyproj>=3.3.1->cartopy) (2024.8.30)\n",
      "Requirement already satisfied: six>=1.5 in /home/hleroy/mon_venv/lib/python3.12/site-packages (from python-dateutil>=2.8.2->pandas) (1.16.0)\n",
      "Requirement already satisfied: charset-normalizer<4,>=2 in /home/hleroy/mon_venv/lib/python3.12/site-packages (from requests>=2.22->requests-cache) (3.3.2)\n",
      "Requirement already satisfied: idna<4,>=2.5 in /home/hleroy/mon_venv/lib/python3.12/site-packages (from requests>=2.22->requests-cache) (3.10)\n"
     ]
    }
   ],
   "source": [
    "!pip install openmeteo-requests\n",
    "!pip install requests-cache retry-requests numpy pandas matplotlib scipy cartopy openmeteo_requests retry_requests fipy"
   ]
  },
  {
   "cell_type": "code",
   "execution_count": 2,
   "id": "a76e6b0e-4dd6-4195-af24-ec2a7a6532fb",
   "metadata": {},
   "outputs": [],
   "source": [
    "import numpy as np\n",
    "import pandas as pd\n",
    "import matplotlib.pyplot as plt\n",
    "import cartopy.crs as ccrs\n",
    "\n",
    "import openmeteo_requests\n",
    "import requests_cache\n",
    "from retry_requests import retry\n",
    "from openmeteo_sdk.Variable import Variable"
   ]
  },
  {
   "cell_type": "code",
   "execution_count": 3,
   "id": "78fbbc74-ce9e-46b5-82ad-4d64759ac196",
   "metadata": {},
   "outputs": [],
   "source": [
    "#https://github.com/open-meteo/python-requests/tree/main#readme"
   ]
  },
  {
   "cell_type": "code",
   "execution_count": 8,
   "id": "42c859f0-7773-4d01-9b1d-76b4477c15f5",
   "metadata": {},
   "outputs": [],
   "source": [
    "def extract_data_from_resp(response, wind_data, nb_coord): #Sort un dataframe avec les valeurs pour les 4 fuseaux horaires des nb_coord coordonnées\n",
    "    for i in range(nb_coord): #On prend les données coordonnée par coordonnée\n",
    "        resp = response[i] #i-ème coordonnée \n",
    "        hourl = resp.Hourly()\n",
    "        \n",
    "        hourl_wind_speed_10m = hourl.Variables(0).ValuesAsNumpy()\n",
    "        hourl_wind_speed_100m = hourl.Variables(1).ValuesAsNumpy()\n",
    "        hourl_wind_direction_10m = hourl.Variables(2).ValuesAsNumpy()\n",
    "        hourl_wind_direction_100m = hourl.Variables(3).ValuesAsNumpy()\n",
    "        hourl_data = {\"date\": pd.date_range(\n",
    "            start = pd.to_datetime(hourl.Time(), unit = \"s\", utc = True),\n",
    "            end = pd.to_datetime(hourl.TimeEnd(), unit = \"s\", utc = True),\n",
    "            freq = pd.Timedelta(seconds = hourl.Interval()),\n",
    "            inclusive = \"left\"\n",
    "        )}\n",
    "        \n",
    "        hourl_data[\"spd10\"] = hourl_wind_speed_10m\n",
    "        hourl_data[\"dir10\"] = hourl_wind_direction_10m\n",
    "        hourl_data[\"spd100\"] = hourl_wind_speed_100m\n",
    "        hourl_data[\"dir100\"] = hourl_wind_direction_100m\n",
    "    \n",
    "        hourl_df = pd.DataFrame(data = hourl_data)\n",
    "        #print(hourl_df)\n",
    "        wind_data.at[i, \"date\"] = hourl_data[\"date\"][0]\n",
    "        wind_data.at[i, \"spd10\"] = hourl_data[\"spd10\"][0]\n",
    "        wind_data.at[i, \"dir10\"] = hourl_data[\"dir10\"][0]\n",
    "        wind_data.at[i, \"spd100\"] = hourl_data[\"spd100\"][0]\n",
    "        wind_data.at[i, \"dir100\"] = hourl_data[\"dir100\"][0]\n",
    "        #print(wind_data)\n",
    "    return wind_data"
   ]
  },
  {
   "cell_type": "code",
   "execution_count": null,
   "id": "f1b33a10-ec45-44f4-a1bc-052aa511f8a9",
   "metadata": {},
   "outputs": [],
   "source": []
  },
  {
   "cell_type": "code",
   "execution_count": 18,
   "id": "db0fd495-5326-4e00-a997-e555fde92742",
   "metadata": {},
   "outputs": [],
   "source": [
    "def extract_data_from_api(lat_min, lat_max, lon_min, lon_max, pas, start_d, end_d):\n",
    "    #dates au format \"AAAA-MM-JJ\"\n",
    "                          \n",
    "    latitudes = np.arange(lat_min, lat_max, pas)\n",
    "    longitudes = np.arange(lon_min, lon_max, pas)\n",
    "    \n",
    "    latitudes_list = latitudes.round(3).tolist()\n",
    "    longitudes_list = longitudes.round(3).tolist()\n",
    "    \n",
    "    l_latitudes = np.repeat(latitudes_list, len(longitudes)).tolist()\n",
    "    l_longitudes = np.tile(longitudes_list, len(latitudes)).tolist()\n",
    "    #print(l_latitudes, l_longitudes)\n",
    "    # Setup the Open-Meteo API client with cache and retry on error\n",
    "    cache_session = requests_cache.CachedSession('.cache', expire_after = -1)\n",
    "    retry_session = retry(cache_session, retries = 5, backoff_factor = 0.2)\n",
    "    openmeteo = openmeteo_requests.Client(session = retry_session)\n",
    "    \n",
    "    # Make sure all required weather variables are listed here\n",
    "    # The order of variables in hourly or daily is important to assign them correctly below\n",
    "    url = \"https://archive-api.open-meteo.com/v1/archive\"\n",
    "    params = {\n",
    "    \t\"latitude\": l_latitudes,\n",
    "    \t\"longitude\": l_longitudes,\n",
    "    \t\"start_date\": start_d,\n",
    "    \t\"end_date\": end_d,\n",
    "    \t\"hourly\": [\"wind_speed_10m\", \"wind_speed_100m\", \"wind_direction_10m\", \"wind_direction_100m\"],\n",
    "        \"temporal_resolution\": \"hourly_6\"\n",
    "    } #On demande les infos toutes les 6h. Cela renvoie donc 16x4 = 64 valeurs par jour\n",
    "    responses = openmeteo.weather_api(url, params=params)\n",
    "    \n",
    "    wind_data = pd.DataFrame({'lat': l_latitudes, 'lon': l_longitudes, 'date' : '2024-09-09 00:00:00+00:00' ,'spd10': 0.0, 'spd100': 0.0,'dir10':0.0, 'dir100':0.0})\n",
    "\n",
    "    extract_data_from_resp(responses, wind_data, len(l_latitudes))\n",
    "    \n",
    "    return wind_data"
   ]
  },
  {
   "cell_type": "code",
   "execution_count": 19,
   "id": "d23fc5a2-b4af-45bd-8e9d-74adc51e7ba0",
   "metadata": {},
   "outputs": [],
   "source": [
    "#Initialisation des variables\n",
    "lat_min = 41.5\n",
    "lat_max = 42.21 #43.01\n",
    "lon_min = 8.5\n",
    "lon_max = 9.51\n",
    "pas = 0.06\n",
    "start_d = \"2024-09-09\"\n",
    "end_d = \"2024-09-09\""
   ]
  },
  {
   "cell_type": "code",
   "execution_count": 20,
   "id": "c676199a-90b9-4f73-a330-60a268f57cb0",
   "metadata": {},
   "outputs": [],
   "source": [
    "df = extract_data_from_api(lat_min, lat_max, lon_min, lon_max, pas, start_d, end_d)\n",
    " "
   ]
  },
  {
   "cell_type": "code",
   "execution_count": 257,
   "id": "a5a72d6a-c4fa-4a1f-b802-fe88a9c06192",
   "metadata": {},
   "outputs": [],
   "source": [
    "df_06_422_43 "
   ]
  },
  {
   "cell_type": "code",
   "execution_count": 260,
   "id": "435ff90b-1e29-4129-8ae3-b30d50595513",
   "metadata": {},
   "outputs": [
    {
     "data": {
      "text/plain": [
       "'#Initialisation des variables\\nlat_min = 41.5\\nlat_max = 42.21 #43.01\\nlon_min = 8.5\\nlon_max = 9.51\\npas = 0.06\\nstart_d = \"2024-09-09\"\\nend_d = \"2024-09-09'"
      ]
     },
     "execution_count": 260,
     "metadata": {},
     "output_type": "execute_result"
    }
   ],
   "source": [
    "df_06_415_422 = df\n",
    "\"\"\"#Initialisation des variables\n",
    "lat_min = 41.5\n",
    "lat_max = 42.21 #43.01\n",
    "lon_min = 8.5\n",
    "lon_max = 9.51\n",
    "pas = 0.06\n",
    "start_d = \"2024-09-09\"\n",
    "end_d = \"2024-09-09\"\"\""
   ]
  },
  {
   "cell_type": "code",
   "execution_count": 264,
   "id": "04031735-b6b9-43bb-8680-4aeefd5e10e1",
   "metadata": {},
   "outputs": [],
   "source": [
    "df_442 = pd.DataFrame(np.concat([df_06_415_422,df_06_422_43]))"
   ]
  },
  {
   "cell_type": "code",
   "execution_count": null,
   "id": "d3b94257-dbae-40b8-838b-1d5ec3f10e06",
   "metadata": {},
   "outputs": [],
   "source": []
  },
  {
   "cell_type": "code",
   "execution_count": 253,
   "id": "2c8905a8-b4bd-41dd-8083-fac6e6e5387d",
   "metadata": {},
   "outputs": [
    {
     "data": {
      "text/plain": [
       "'#Initialisation des variables\\nlat_min = 42.21\\nlat_max = 43.01 #43.01\\nlon_min = 8.5\\nlon_max = 9.51\\npas = 0.07\\nstart_d = \"2024-09-09\"\\nend_d = \"2024-09-09'"
      ]
     },
     "execution_count": 253,
     "metadata": {},
     "output_type": "execute_result"
    }
   ],
   "source": [
    "df_415_422 \n",
    "\"\"\"#Initialisation des variables\n",
    "lat_min = 42.21\n",
    "lat_max = 43.01 #43.01\n",
    "lon_min = 8.5\n",
    "lon_max = 9.51\n",
    "pas = 0.07\n",
    "start_d = \"2024-09-09\"\n",
    "end_d = \"2024-09-09\"\"\""
   ]
  },
  {
   "cell_type": "code",
   "execution_count": 242,
   "id": "5dd7be43-a05c-4f2e-b036-063c2c922bbd",
   "metadata": {},
   "outputs": [],
   "source": [
    "df_422_43 = df"
   ]
  },
  {
   "cell_type": "code",
   "execution_count": 226,
   "id": "e3043b44-0f3f-4482-a988-36d5851df469",
   "metadata": {},
   "outputs": [],
   "source": [
    "df_425_43 = df"
   ]
  },
  {
   "cell_type": "code",
   "execution_count": 244,
   "id": "e031197a-4b06-4250-8b68-e30ef6832ecb",
   "metadata": {},
   "outputs": [
    {
     "name": "stdout",
     "output_type": "stream",
     "text": [
      "180\n"
     ]
    }
   ],
   "source": [
    "print(len(df_422_43))"
   ]
  },
  {
   "cell_type": "code",
   "execution_count": 250,
   "id": "8e7fddcd-0c6c-4cb1-9fcf-6f83df3e46c8",
   "metadata": {},
   "outputs": [],
   "source": [
    "df_345 = pd.DataFrame(np.concat([df_415_422,df_422_43]))"
   ]
  },
  {
   "cell_type": "code",
   "execution_count": 252,
   "id": "3984be57-4a6b-435f-8d65-40cd5017a6e1",
   "metadata": {},
   "outputs": [
    {
     "data": {
      "text/plain": [
       "'#Initialisation des variables\\nlat_min = 42.21\\nlat_max = 43.01 #43.01\\nlon_min = 8.5\\nlon_max = 9.51\\npas = 0.05\\nstart_d = \"2024-09-09\"\\nend_d = \"2024-09-09'"
      ]
     },
     "execution_count": 252,
     "metadata": {},
     "output_type": "execute_result"
    }
   ],
   "source": [
    "df_693\n",
    "\"\"\"#Initialisation des variables\n",
    "lat_min = 42.21\n",
    "lat_max = 43.01 #43.01\n",
    "lon_min = 8.5\n",
    "lon_max = 9.51\n",
    "pas = 0.05\n",
    "start_d = \"2024-09-09\"\n",
    "end_d = \"2024-09-09\"\"\""
   ]
  },
  {
   "cell_type": "code",
   "execution_count": 151,
   "id": "119f5ba3-8f83-48cd-a117-a6f57d486c98",
   "metadata": {},
   "outputs": [],
   "source": [
    "df_176 \n",
    "\"\"\"\n",
    "lat_min = 41.5\n",
    "lat_max = 43.02\n",
    "lon_min = 8.5\n",
    "lon_max = 9.52\n",
    "pas = 0.1\"\"\""
   ]
  },
  {
   "cell_type": "code",
   "execution_count": 156,
   "id": "a544ab71-03d2-46a4-b1b1-0276bb85b253",
   "metadata": {},
   "outputs": [
    {
     "name": "stdout",
     "output_type": "stream",
     "text": [
      "176\n"
     ]
    }
   ],
   "source": [
    "print(len(df))"
   ]
  },
  {
   "cell_type": "code",
   "execution_count": 161,
   "id": "52bd0512-2872-44fe-af44-b817c553b481",
   "metadata": {},
   "outputs": [
    {
     "data": {
      "text/plain": [
       "'\\nlat_min = 41.5\\nlat_max = 43.02\\nlon_min = 8.5\\nlon_max = 9.52\\npas = 0.09\\nstart_d = \"2024-09-09\"\\nend_d = \"2024-09-09'"
      ]
     },
     "execution_count": 161,
     "metadata": {},
     "output_type": "execute_result"
    }
   ],
   "source": [
    "df_204 \n",
    "\"\"\"\n",
    "lat_min = 41.5\n",
    "lat_max = 43.02\n",
    "lon_min = 8.5\n",
    "lon_max = 9.52\n",
    "pas = 0.09\n",
    "start_d = \"2024-09-09\"\n",
    "end_d = \"2024-09-09\"\"\""
   ]
  },
  {
   "cell_type": "code",
   "execution_count": 166,
   "id": "8c08337d-8ad7-4363-b76b-78adc1ff37f6",
   "metadata": {},
   "outputs": [
    {
     "data": {
      "text/plain": [
       "'\\n#Initialisation des variables\\nlat_min = 41.5\\nlat_max = 43.01\\nlon_min = 8.5\\nlon_max = 9.51\\npas = 0.08\\nstart_d = \"2024-09-09\"\\nend_d = \"2024-09-09\"\\n'"
      ]
     },
     "execution_count": 166,
     "metadata": {},
     "output_type": "execute_result"
    }
   ],
   "source": [
    "df_247 \n",
    "\"\"\"\n",
    "#Initialisation des variables\n",
    "lat_min = 41.5\n",
    "lat_max = 43.01\n",
    "lon_min = 8.5\n",
    "lon_max = 9.51\n",
    "pas = 0.08\n",
    "start_d = \"2024-09-09\"\n",
    "end_d = \"2024-09-09\"\n",
    "\"\"\""
   ]
  },
  {
   "cell_type": "code",
   "execution_count": 178,
   "id": "fbd76ca7-dcbc-4643-8f50-ad6a99482891",
   "metadata": {},
   "outputs": [
    {
     "data": {
      "text/plain": [
       "'\\nlat_min = 41.5\\nlat_max = 43.01\\nlon_min = 8.5\\nlon_max = 9.51\\npas = 0.078\\nstart_d = \"2024-09-09\"\\nend_d = \"2024-09-09'"
      ]
     },
     "execution_count": 178,
     "metadata": {},
     "output_type": "execute_result"
    }
   ],
   "source": [
    "df_260\n",
    "\"\"\"\n",
    "lat_min = 41.5\n",
    "lat_max = 43.01\n",
    "lon_min = 8.5\n",
    "lon_max = 9.51\n",
    "pas = 0.078\n",
    "start_d = \"2024-09-09\"\n",
    "end_d = \"2024-09-09\"\"\""
   ]
  },
  {
   "cell_type": "code",
   "execution_count": 181,
   "id": "873766f0-9d97-4bdd-8d63-111f0e6008f8",
   "metadata": {},
   "outputs": [
    {
     "data": {
      "text/plain": [
       "117"
      ]
     },
     "execution_count": 181,
     "metadata": {},
     "output_type": "execute_result"
    }
   ],
   "source": [
    "len(df)"
   ]
  },
  {
   "cell_type": "code",
   "execution_count": 182,
   "id": "8674f52b-6ad6-4dd3-849d-cddaa4435795",
   "metadata": {},
   "outputs": [
    {
     "data": {
      "text/plain": [
       "'lat_min = 41.5\\nlat_max = 43.01\\nlon_min = 8.5\\nlon_max = 9.51\\npas = 0.12\\nstart_d = \"2024-09-09\"\\nend_d = \"2024-09-09'"
      ]
     },
     "execution_count": 182,
     "metadata": {},
     "output_type": "execute_result"
    }
   ],
   "source": [
    "df_117 \n",
    "\"\"\"lat_min = 41.5\n",
    "lat_max = 43.01\n",
    "lon_min = 8.5\n",
    "lon_max = 9.51\n",
    "pas = 0.12\n",
    "start_d = \"2024-09-09\"\n",
    "end_d = \"2024-09-09\"\"\""
   ]
  },
  {
   "cell_type": "code",
   "execution_count": 186,
   "id": "c798f9a4-f7ce-4210-b9a3-7ca4fc9ea776",
   "metadata": {},
   "outputs": [
    {
     "name": "stdout",
     "output_type": "stream",
     "text": [
      "77\n"
     ]
    }
   ],
   "source": [
    "print(len(df))"
   ]
  },
  {
   "cell_type": "code",
   "execution_count": 188,
   "id": "4cb3d62d-b91a-42c1-b3a8-7ccd3bd7cf1a",
   "metadata": {},
   "outputs": [
    {
     "data": {
      "text/plain": [
       "'#Initialisation des variables\\nlat_min = 41.5\\nlat_max = 43.01\\nlon_min = 8.5\\nlon_max = 9.51\\npas = 0.15\\nstart_d = \"2024-09-09\"\\nend_d = \"2024-09-09'"
      ]
     },
     "execution_count": 188,
     "metadata": {},
     "output_type": "execute_result"
    }
   ],
   "source": [
    "df_77\n",
    "\"\"\"#Initialisation des variables\n",
    "lat_min = 41.5\n",
    "lat_max = 43.01\n",
    "lon_min = 8.5\n",
    "lon_max = 9.51\n",
    "pas = 0.15\n",
    "start_d = \"2024-09-09\"\n",
    "end_d = \"2024-09-09\"\"\""
   ]
  },
  {
   "cell_type": "code",
   "execution_count": 191,
   "id": "cb8196a9-a281-4b96-810a-2d1c9c81f11e",
   "metadata": {},
   "outputs": [
    {
     "data": {
      "text/plain": [
       "48"
      ]
     },
     "execution_count": 191,
     "metadata": {},
     "output_type": "execute_result"
    }
   ],
   "source": [
    "len(df)"
   ]
  },
  {
   "cell_type": "code",
   "execution_count": 192,
   "id": "9440de38-2e6b-4a6a-abbc-4eea1cb81d41",
   "metadata": {},
   "outputs": [
    {
     "data": {
      "text/plain": [
       "'\\n#Initialisation des variables\\nlat_min = 41.5\\nlat_max = 43.01\\nlon_min = 8.5\\nlon_max = 9.51\\npas = 0.2\\nstart_d = \"2024-09-09\"\\nend_d = \"2024-09-09'"
      ]
     },
     "execution_count": 192,
     "metadata": {},
     "output_type": "execute_result"
    }
   ],
   "source": [
    "df_48\n",
    "\"\"\"\n",
    "#Initialisation des variables\n",
    "lat_min = 41.5\n",
    "lat_max = 43.01\n",
    "lon_min = 8.5\n",
    "lon_max = 9.51\n",
    "pas = 0.2\n",
    "start_d = \"2024-09-09\"\n",
    "end_d = \"2024-09-09\"\"\""
   ]
  },
  {
   "cell_type": "code",
   "execution_count": 195,
   "id": "0178501d-8f00-4f32-85ac-012fa761c495",
   "metadata": {},
   "outputs": [
    {
     "data": {
      "text/plain": [
       "54"
      ]
     },
     "execution_count": 195,
     "metadata": {},
     "output_type": "execute_result"
    }
   ],
   "source": [
    "len(df)"
   ]
  },
  {
   "cell_type": "code",
   "execution_count": 196,
   "id": "c1f5e7e4-d79c-4837-8b99-f727f2b9673d",
   "metadata": {},
   "outputs": [
    {
     "data": {
      "text/plain": [
       "'#Initialisation des variables\\nlat_min = 41.5\\nlat_max = 43.01\\nlon_min = 8.5\\nlon_max = 9.51\\npas = 0.2\\nstart_d = \"2024-09-09\"\\nend_d = \"2024-09-09'"
      ]
     },
     "execution_count": 196,
     "metadata": {},
     "output_type": "execute_result"
    }
   ],
   "source": [
    "df_54 \n",
    "\"\"\"#Initialisation des variables\n",
    "lat_min = 41.5\n",
    "lat_max = 43.01\n",
    "lon_min = 8.5\n",
    "lon_max = 9.51\n",
    "pas = 0.2\n",
    "start_d = \"2024-09-09\"\n",
    "end_d = \"2024-09-09\"\"\""
   ]
  },
  {
   "cell_type": "code",
   "execution_count": 207,
   "id": "767b1e1e-df99-4f75-a889-d87c9f3aba16",
   "metadata": {},
   "outputs": [
    {
     "data": {
      "text/plain": [
       "260"
      ]
     },
     "execution_count": 207,
     "metadata": {},
     "output_type": "execute_result"
    }
   ],
   "source": [
    "len(df)"
   ]
  },
  {
   "cell_type": "code",
   "execution_count": 209,
   "id": "3dfab224-f380-4db8-9845-4b016a5debf6",
   "metadata": {},
   "outputs": [
    {
     "data": {
      "text/plain": [
       "'#Initialisation des variables\\nlat_min = 41.5\\nlat_max = 43.01\\nlon_min = 8.5\\nlon_max = 9.51\\npas = 0.0778\\nstart_d = \"2024-09-09\"\\nend_d = \"2024-09-09'"
      ]
     },
     "execution_count": 209,
     "metadata": {},
     "output_type": "execute_result"
    }
   ],
   "source": [
    "df_260 \n",
    "\"\"\"#Initialisation des variables\n",
    "lat_min = 41.5\n",
    "lat_max = 43.01\n",
    "lon_min = 8.5\n",
    "lon_max = 9.51\n",
    "pas = 0.0778\n",
    "start_d = \"2024-09-09\"\n",
    "end_d = \"2024-09-09\"\"\""
   ]
  },
  {
   "cell_type": "code",
   "execution_count": 265,
   "id": "fc9c2cf6-61c9-4871-b65c-b969efad7296",
   "metadata": {},
   "outputs": [],
   "source": [
    "df_48.to_csv('../data/API/df_48.csv', index = False)\n",
    "df_54.to_csv('../data/API/df_54.csv', index = False)\n",
    "df_77.to_csv('../data/API/df_77.csv', index = False)\n",
    "df_117.to_csv('../data/API/df_117.csv', index = False)\n",
    "df_176.to_csv('../data/API/df_176.csv', index = False)\n",
    "df_204.to_csv('../data/API/df_204.csv', index = False)\n",
    "df_247.to_csv('../data/API/df_247.csv', index = False)\n",
    "df_260.to_csv('../data/API/df_260.csv', index = False)\n",
    "df_345.to_csv('../data/API/df_345.csv', index = False)\n",
    "df_442.to_csv('../data/API/df_442.csv', index = False)\n",
    "df_693.to_csv('../data/API/df_693.csv', index=False)"
   ]
  },
  {
   "cell_type": "code",
   "execution_count": null,
   "id": "4894dc43-9b3f-4b89-8c59-692f0c1c73f0",
   "metadata": {},
   "outputs": [],
   "source": []
  }
 ],
 "metadata": {
  "kernelspec": {
   "display_name": "Python 3 (ipykernel)",
   "language": "python",
   "name": "python3"
  },
  "language_info": {
   "codemirror_mode": {
    "name": "ipython",
    "version": 3
   },
   "file_extension": ".py",
   "mimetype": "text/x-python",
   "name": "python",
   "nbconvert_exporter": "python",
   "pygments_lexer": "ipython3",
   "version": "3.12.3"
  }
 },
 "nbformat": 4,
 "nbformat_minor": 5
}
